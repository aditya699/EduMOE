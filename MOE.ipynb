{
 "cells": [
  {
   "cell_type": "markdown",
   "id": "348639bf",
   "metadata": {},
   "source": [
    "# Data Loading (Day1)"
   ]
  },
  {
   "cell_type": "code",
   "execution_count": 1,
   "id": "ff5bd6bd",
   "metadata": {},
   "outputs": [
    {
     "name": "stdout",
     "output_type": "stream",
     "text": [
      "\u001b[33mWARNING: Running pip as the 'root' user can result in broken permissions and conflicting behaviour with the system package manager, possibly rendering your system unusable. It is recommended to use a virtual environment instead: https://pip.pypa.io/warnings/venv. Use the --root-user-action option if you know what you are doing and want to suppress this warning.\u001b[0m\u001b[33m\n",
      "\u001b[0m\n",
      "\u001b[1m[\u001b[0m\u001b[34;49mnotice\u001b[0m\u001b[1;39;49m]\u001b[0m\u001b[39;49m A new release of pip is available: \u001b[0m\u001b[31;49m25.0.1\u001b[0m\u001b[39;49m -> \u001b[0m\u001b[32;49m25.2\u001b[0m\n",
      "\u001b[1m[\u001b[0m\u001b[34;49mnotice\u001b[0m\u001b[1;39;49m]\u001b[0m\u001b[39;49m To update, run: \u001b[0m\u001b[32;49mpython -m pip install --upgrade pip\u001b[0m\n",
      "Note: you may need to restart the kernel to use updated packages.\n"
     ]
    }
   ],
   "source": [
    "#Install Important Libs\n",
    "%pip install -q datasets transformers pydantic\n"
   ]
  },
  {
   "cell_type": "code",
   "execution_count": 2,
   "id": "6a1a173b",
   "metadata": {},
   "outputs": [],
   "source": [
    "from typing import Optional, Literal\n",
    "from pydantic import BaseModel, Field"
   ]
  },
  {
   "cell_type": "markdown",
   "id": "709352ef",
   "metadata": {},
   "source": [
    "# Environment Check before running the code"
   ]
  },
  {
   "cell_type": "code",
   "execution_count": 4,
   "id": "c6cf3fe2",
   "metadata": {},
   "outputs": [
    {
     "name": "stdout",
     "output_type": "stream",
     "text": [
      "Library Versions: {'torch': '2.8.0.dev20250319+cu128', 'datasets': '4.0.0', 'transformers': '4.55.4'}\n",
      "Device Info: {'device': 'GPU', 'cuda_version': '12.8', 'gpu_name': 'NVIDIA L4', 'memory_gb': 22.06, 'message': None}\n"
     ]
    }
   ],
   "source": [
    "import importlib\n",
    "from typing import Optional, Literal\n",
    "from pydantic import BaseModel\n",
    "\n",
    "# --- Safe optional imports ---\n",
    "if importlib.util.find_spec(\"torch\"):\n",
    "    import torch\n",
    "else:\n",
    "    torch = None\n",
    "\n",
    "if importlib.util.find_spec(\"datasets\"):\n",
    "    import datasets\n",
    "else:\n",
    "    datasets = None\n",
    "\n",
    "if importlib.util.find_spec(\"transformers\"):\n",
    "    import transformers\n",
    "else:\n",
    "    transformers = None\n",
    "\n",
    "\n",
    "class LibraryVersions(BaseModel):\n",
    "    torch: str = \" Not Installed\"\n",
    "    datasets: str = \" Not Installed\"\n",
    "    transformers: str = \" Not Installed\"\n",
    "\n",
    "\n",
    "class GPUInfo(BaseModel):\n",
    "    device: Literal[\"GPU\", \"CPU\", \"No Device Detected\"]\n",
    "    cuda_version: Optional[str] = None\n",
    "    gpu_name: Optional[str] = None\n",
    "    memory_gb: Optional[float] = None\n",
    "    message: Optional[str] = None\n",
    "\n",
    "\n",
    "class EnvironmentCheck:\n",
    "    \"\"\"Environment checker with Pydantic models.\"\"\"\n",
    "\n",
    "    def __init__(self) -> None:\n",
    "        self.torch_version = torch.__version__ if torch else None\n",
    "        self.datasets_version = datasets.__version__ if datasets else None\n",
    "        self.transformers_version = transformers.__version__ if transformers else None\n",
    "\n",
    "    def get_versions(self) -> LibraryVersions:\n",
    "        \"\"\"Return installed library versions as a Pydantic model.\"\"\"\n",
    "        return LibraryVersions(\n",
    "            torch=self.torch_version or \" Not Installed\",\n",
    "            datasets=self.datasets_version or \" Not Installed\",\n",
    "            transformers=self.transformers_version or \" Not Installed\",\n",
    "        )\n",
    "\n",
    "    def check_gpu(self) -> GPUInfo:\n",
    "        \"\"\"Return GPU details as a Pydantic model.\"\"\"\n",
    "        if not torch:\n",
    "            return GPUInfo(device=\"No Device Detected\")\n",
    "\n",
    "        if torch.cuda.is_available():\n",
    "            props = torch.cuda.get_device_properties(0)\n",
    "            return GPUInfo(\n",
    "                device=\"GPU\",\n",
    "                cuda_version=torch.version.cuda,\n",
    "                gpu_name=torch.cuda.get_device_name(0),\n",
    "                memory_gb=round(props.total_memory / (1024**3), 2),\n",
    "            )\n",
    "        return GPUInfo(device=\"CPU\", message=\"No GPU detected\")\n",
    "\n",
    "\n",
    "# --- Usage for manual run ---\n",
    "if __name__ == \"__main__\":\n",
    "    env = EnvironmentCheck()\n",
    "    print(\"Library Versions:\", env.get_versions().model_dump())\n",
    "    print(\"Device Info:\", env.check_gpu().model_dump())\n"
   ]
  },
  {
   "cell_type": "code",
   "execution_count": null,
   "id": "e8814623",
   "metadata": {},
   "outputs": [],
   "source": []
  }
 ],
 "metadata": {
  "kernelspec": {
   "display_name": "Python 3 (ipykernel)",
   "language": "python",
   "name": "python3"
  },
  "language_info": {
   "codemirror_mode": {
    "name": "ipython",
    "version": 3
   },
   "file_extension": ".py",
   "mimetype": "text/x-python",
   "name": "python",
   "nbconvert_exporter": "python",
   "pygments_lexer": "ipython3",
   "version": "3.11.11"
  }
 },
 "nbformat": 4,
 "nbformat_minor": 5
}
