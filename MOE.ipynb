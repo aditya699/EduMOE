{
 "cells": [
  {
   "cell_type": "markdown",
   "id": "348639bf",
   "metadata": {},
   "source": [
    "# Data Loading"
   ]
  },
  {
   "cell_type": "code",
   "execution_count": 1,
   "id": "ff5bd6bd",
   "metadata": {},
   "outputs": [
    {
     "name": "stdout",
     "output_type": "stream",
     "text": [
      "\u001b[33mWARNING: Running pip as the 'root' user can result in broken permissions and conflicting behaviour with the system package manager, possibly rendering your system unusable. It is recommended to use a virtual environment instead: https://pip.pypa.io/warnings/venv. Use the --root-user-action option if you know what you are doing and want to suppress this warning.\u001b[0m\u001b[33m\n",
      "\u001b[0m\n",
      "\u001b[1m[\u001b[0m\u001b[34;49mnotice\u001b[0m\u001b[1;39;49m]\u001b[0m\u001b[39;49m A new release of pip is available: \u001b[0m\u001b[31;49m25.0.1\u001b[0m\u001b[39;49m -> \u001b[0m\u001b[32;49m25.2\u001b[0m\n",
      "\u001b[1m[\u001b[0m\u001b[34;49mnotice\u001b[0m\u001b[1;39;49m]\u001b[0m\u001b[39;49m To update, run: \u001b[0m\u001b[32;49mpython -m pip install --upgrade pip\u001b[0m\n",
      "Note: you may need to restart the kernel to use updated packages.\n"
     ]
    }
   ],
   "source": [
    "#Install Important Libs\n",
    "%pip install -q datasets transformers pydantic\n"
   ]
  },
  {
   "cell_type": "code",
   "execution_count": 2,
   "id": "6a1a173b",
   "metadata": {},
   "outputs": [],
   "source": [
    "from typing import Optional, Literal\n",
    "from pydantic import BaseModel, Field"
   ]
  },
  {
   "cell_type": "markdown",
   "id": "709352ef",
   "metadata": {},
   "source": [
    "# Environment Check before running the code"
   ]
  },
  {
   "cell_type": "code",
   "execution_count": 3,
   "id": "c6cf3fe2",
   "metadata": {},
   "outputs": [
    {
     "name": "stdout",
     "output_type": "stream",
     "text": [
      "Library Versions: {'torch': '2.8.0.dev20250319+cu128', 'datasets': '4.0.0', 'transformers': '4.56.0'}\n",
      "Device Info: {'device': 'GPU', 'cuda_version': '12.8', 'gpu_name': 'NVIDIA L4', 'memory_gb': 22.03, 'message': None}\n"
     ]
    }
   ],
   "source": [
    "import importlib\n",
    "from typing import Optional, Literal\n",
    "from pydantic import BaseModel\n",
    "\n",
    "# --- Safe optional imports ---\n",
    "if importlib.util.find_spec(\"torch\"):\n",
    "    import torch\n",
    "else:\n",
    "    torch = None\n",
    "\n",
    "if importlib.util.find_spec(\"datasets\"):\n",
    "    import datasets\n",
    "else:\n",
    "    datasets = None\n",
    "\n",
    "if importlib.util.find_spec(\"transformers\"):\n",
    "    import transformers\n",
    "else:\n",
    "    transformers = None\n",
    "\n",
    "\n",
    "class LibraryVersions(BaseModel):\n",
    "    torch: str = \" Not Installed\"\n",
    "    datasets: str = \" Not Installed\"\n",
    "    transformers: str = \" Not Installed\"\n",
    "\n",
    "\n",
    "class GPUInfo(BaseModel):\n",
    "    device: Literal[\"GPU\", \"CPU\", \"No Device Detected\"]\n",
    "    cuda_version: Optional[str] = None\n",
    "    gpu_name: Optional[str] = None\n",
    "    memory_gb: Optional[float] = None\n",
    "    message: Optional[str] = None\n",
    "\n",
    "\n",
    "class EnvironmentCheck:\n",
    "    \"\"\"Environment checker with Pydantic models.\"\"\"\n",
    "\n",
    "    def __init__(self) -> None:\n",
    "        self.torch_version = torch.__version__ if torch else None\n",
    "        self.datasets_version = datasets.__version__ if datasets else None\n",
    "        self.transformers_version = transformers.__version__ if transformers else None\n",
    "\n",
    "    def get_versions(self) -> LibraryVersions:\n",
    "        \"\"\"Return installed library versions as a Pydantic model.\"\"\"\n",
    "        return LibraryVersions(\n",
    "            torch=self.torch_version or \" Not Installed\",\n",
    "            datasets=self.datasets_version or \" Not Installed\",\n",
    "            transformers=self.transformers_version or \" Not Installed\",\n",
    "        )\n",
    "\n",
    "    def check_gpu(self) -> GPUInfo:\n",
    "        \"\"\"Return GPU details as a Pydantic model.\"\"\"\n",
    "        if not torch:\n",
    "            return GPUInfo(device=\"No Device Detected\")\n",
    "\n",
    "        if torch.cuda.is_available():\n",
    "            props = torch.cuda.get_device_properties(0)\n",
    "            return GPUInfo(\n",
    "                device=\"GPU\",\n",
    "                cuda_version=torch.version.cuda,\n",
    "                gpu_name=torch.cuda.get_device_name(0),\n",
    "                memory_gb=round(props.total_memory / (1024**3), 2),\n",
    "            )\n",
    "        return GPUInfo(device=\"CPU\", message=\"No GPU detected\")\n",
    "\n",
    "\n",
    "# --- Usage for manual run ---\n",
    "if __name__ == \"__main__\":\n",
    "    env = EnvironmentCheck()\n",
    "    print(\"Library Versions:\", env.get_versions().model_dump())\n",
    "    print(\"Device Info:\", env.check_gpu().model_dump())\n"
   ]
  },
  {
   "cell_type": "markdown",
   "id": "e8814623",
   "metadata": {},
   "source": [
    "# Data Loading"
   ]
  },
  {
   "cell_type": "code",
   "execution_count": 4,
   "id": "22b1c2e5",
   "metadata": {},
   "outputs": [
    {
     "data": {
      "application/vnd.jupyter.widget-view+json": {
       "model_id": "0d2849c0758e416c8f8548455c8909d2",
       "version_major": 2,
       "version_minor": 0
      },
      "text/plain": [
       "README.md: 0.00B [00:00, ?B/s]"
      ]
     },
     "metadata": {},
     "output_type": "display_data"
    },
    {
     "data": {
      "application/vnd.jupyter.widget-view+json": {
       "model_id": "dab070bbf82e4f2287ddf6d13a6b57d4",
       "version_major": 2,
       "version_minor": 0
      },
      "text/plain": [
       "test-00000-of-00001.parquet:   0%|          | 0.00/733k [00:00<?, ?B/s]"
      ]
     },
     "metadata": {},
     "output_type": "display_data"
    },
    {
     "data": {
      "application/vnd.jupyter.widget-view+json": {
       "model_id": "c34afc7184e442e8a2d33db72198c13b",
       "version_major": 2,
       "version_minor": 0
      },
      "text/plain": [
       "train-00000-of-00001.parquet:   0%|          | 0.00/6.36M [00:00<?, ?B/s]"
      ]
     },
     "metadata": {},
     "output_type": "display_data"
    },
    {
     "data": {
      "application/vnd.jupyter.widget-view+json": {
       "model_id": "6c1226a101284d5e9b5faaafe075ae0d",
       "version_major": 2,
       "version_minor": 0
      },
      "text/plain": [
       "validation-00000-of-00001.parquet:   0%|          | 0.00/657k [00:00<?, ?B/s]"
      ]
     },
     "metadata": {},
     "output_type": "display_data"
    },
    {
     "data": {
      "application/vnd.jupyter.widget-view+json": {
       "model_id": "fc789492437e4327bc963c8f5f5d84fc",
       "version_major": 2,
       "version_minor": 0
      },
      "text/plain": [
       "Generating test split:   0%|          | 0/4358 [00:00<?, ? examples/s]"
      ]
     },
     "metadata": {},
     "output_type": "display_data"
    },
    {
     "data": {
      "application/vnd.jupyter.widget-view+json": {
       "model_id": "d1859a3531c54cc3b598a268d349b280",
       "version_major": 2,
       "version_minor": 0
      },
      "text/plain": [
       "Generating train split:   0%|          | 0/36718 [00:00<?, ? examples/s]"
      ]
     },
     "metadata": {},
     "output_type": "display_data"
    },
    {
     "data": {
      "application/vnd.jupyter.widget-view+json": {
       "model_id": "b942d97ca63247ac90375e8642bfaa04",
       "version_major": 2,
       "version_minor": 0
      },
      "text/plain": [
       "Generating validation split:   0%|          | 0/3760 [00:00<?, ? examples/s]"
      ]
     },
     "metadata": {},
     "output_type": "display_data"
    },
    {
     "name": "stdout",
     "output_type": "stream",
     "text": [
      "DatasetDict({\n",
      "    test: Dataset({\n",
      "        features: ['text'],\n",
      "        num_rows: 4358\n",
      "    })\n",
      "    train: Dataset({\n",
      "        features: ['text'],\n",
      "        num_rows: 36718\n",
      "    })\n",
      "    validation: Dataset({\n",
      "        features: ['text'],\n",
      "        num_rows: 3760\n",
      "    })\n",
      "})\n",
      "Row 0: ''\n",
      "Row 1: ' = Valkyria Chronicles III = \\n'\n",
      "Row 2: ''\n",
      "Row 3: ' Senjō no Valkyria 3 : Unrecorded Chronicles ( Japanese : 戦場のヴァルキュリア3 , lit . Valkyria of the Battlefield 3 ) , commonly referred to as Valkyria Chronicles III outside Japan , is a tactical role @-@ playing video game developed by Sega and Media.Vision for the PlayStation Portable . Released in January 2011 in Japan , it is the third game in the Valkyria series . Employing the same fusion of tactical and real @-@ time gameplay as its predecessors , the story runs parallel to the first game and follows the \" Nameless \" , a penal military unit serving the nation of Gallia during the Second Europan War who perform secret black operations and are pitted against the Imperial unit \" Calamaty Raven \" . \\n'\n",
      "Row 4: \" The game began development in 2010 , carrying over a large portion of the work done on Valkyria Chronicles II . While it retained the standard features of the series , it also underwent multiple adjustments , such as making the game more forgiving for series newcomers . Character designer Raita Honjou and composer Hitoshi Sakimoto both returned from previous entries , along with Valkyria Chronicles II director Takeshi Ozawa . A large team of writers handled the script . The game 's opening theme was sung by May 'n . \\n\"\n",
      "Row 5: \" It met with positive sales in Japan , and was praised by both Japanese and western critics . After release , it received downloadable content , along with an expanded edition in November of that year . It was also adapted into manga and an original video animation series . Due to low sales of Valkyria Chronicles II , Valkyria Chronicles III was not localized , but a fan translation compatible with the game 's expanded edition was released in 2014 . Media.Vision would return to the franchise with the development of Valkyria : Azure Revolution for the PlayStation 4 . \\n\"\n",
      "Row 6: ''\n",
      "Row 7: ' = = Gameplay = = \\n'\n",
      "Row 8: ''\n",
      "Row 9: \" As with previous Valkyira Chronicles games , Valkyria Chronicles III is a tactical role @-@ playing game where players take control of a military unit and take part in missions against enemy forces . Stories are told through comic book @-@ like panels with animated character portraits , with characters speaking partially through voiced speech bubbles and partially through unvoiced text . The player progresses through a series of linear missions , gradually unlocked as maps that can be freely scanned through and replayed as they are unlocked . The route to each story location on the map varies depending on an individual player 's approach : when one option is selected , the other is sealed off to the player . Outside missions , the player characters rest in a camp , where units can be customized and character growth occurs . Alongside the main story missions are character @-@ specific sub missions relating to different squad members . After the game 's completion , additional episodes are unlocked , some of them having a higher difficulty than those found in the rest of the game . There are also love simulation elements related to the game 's two main heroines , although they take a very minor role . \\n\"\n"
     ]
    }
   ],
   "source": [
    "from typing import Optional\n",
    "from pydantic import BaseModel, Field\n",
    "from datasets import load_dataset, DatasetDict\n",
    "\n",
    "\n",
    "class DatasetConfig(BaseModel):\n",
    "    \"\"\"Configuration model for dataset loading.\"\"\"\n",
    "    dataset_name: str = Field(..., description=\"Name of the dataset to load (e.g., 'wikitext').\")\n",
    "    subset_name: str = Field(..., description=\"Subset/config name (e.g., 'wikitext-2-raw-v1').\")\n",
    "\n",
    "\n",
    "class DatasetLoader:\n",
    "    \"\"\"Wrapper class for loading HuggingFace datasets.\"\"\"\n",
    "\n",
    "    def __init__(self, config: DatasetConfig) -> None:\n",
    "        self.config = config\n",
    "\n",
    "    def load_data(self) -> DatasetDict:\n",
    "        \"\"\"Load dataset using HuggingFace.\"\"\"\n",
    "        dataset = load_dataset(self.config.dataset_name, self.config.subset_name)\n",
    "        return dataset\n",
    "\n",
    "\n",
    "config = DatasetConfig(dataset_name=\"wikitext\", subset_name=\"wikitext-2-raw-v1\")\n",
    "loader = DatasetLoader(config)\n",
    "dataset = loader.load_data()\n",
    "\n",
    "print(dataset)\n",
    "for i in range(10):\n",
    "    print(f\"Row {i}: {dataset['train'][i]['text']!r}\")\n",
    "\n"
   ]
  },
  {
   "cell_type": "markdown",
   "id": "f59dea62",
   "metadata": {},
   "source": [
    "# Environment Setup and Dataset Preparation"
   ]
  },
  {
   "cell_type": "markdown",
   "id": "a430e52f",
   "metadata": {},
   "source": [
    "🔹 Environment Setup\n",
    "\n",
    "Before training a language model, we must ensure the environment is ready:\n",
    "\n",
    "Libraries: PyTorch for neural networks, HuggingFace datasets for loading corpora, and transformers for tokenization.\n",
    "\n",
    "GPU Availability: Training transformers on CPU is not practical. We verified CUDA version, GPU type, and VRAM size.\n",
    "\n",
    "Reproducibility: Using a structured check (EnvironmentCheck), we can confirm dependencies and hardware setup are consistent across machines.\n",
    "\n",
    "🔹 Dataset Preparation in LLM Training\n",
    "\n",
    "Large-scale models are trained on diverse, massive corpora:\n",
    "\n",
    "🌍 Common Crawl → large-scale web scrape (cleaned and deduplicated).\n",
    "\n",
    "📚 Books → public-domain and licensed.\n",
    "\n",
    "📝 Wikipedia → factual, well-structured text.\n",
    "\n",
    "💻 Code → GitHub, forums, Q&A.\n",
    "\n",
    "🧪 Research Articles → scientific sources like arXiv and PubMed.\n",
    "\n",
    "Such datasets often reach billions to trillions of tokens. Preprocessing includes deduplication, filtering, and quality checks.\n",
    "\n",
    "🔹 Our Choice for EduMoE\n",
    "\n",
    "For this educational project, we use:\n",
    "\n",
    "✅ WikiText-2 (raw):\n",
    "\n",
    "~2M tokens — small enough for fast experiments.\n",
    "\n",
    "Natural, factual prose similar to real-world corpora.\n",
    "\n",
    "Already split into train, validation, and test.\n",
    "\n",
    "Includes quirks like blank lines, which helps mimic real preprocessing challenges.\n",
    "\n",
    "This dataset is ideal for learning the mechanics of LLM training without overwhelming compute resources."
   ]
  },
  {
   "cell_type": "markdown",
   "id": "4e21aa56",
   "metadata": {},
   "source": [
    "# Tokenization"
   ]
  },
  {
   "cell_type": "code",
   "execution_count": 5,
   "id": "2cffb50b",
   "metadata": {},
   "outputs": [
    {
     "data": {
      "application/vnd.jupyter.widget-view+json": {
       "model_id": "99b604c60a5f4d36af463f7b5078054f",
       "version_major": 2,
       "version_minor": 0
      },
      "text/plain": [
       "tokenizer_config.json:   0%|          | 0.00/26.0 [00:00<?, ?B/s]"
      ]
     },
     "metadata": {},
     "output_type": "display_data"
    },
    {
     "data": {
      "application/vnd.jupyter.widget-view+json": {
       "model_id": "43d252dc0cc3486d87dfaf9dcf95a044",
       "version_major": 2,
       "version_minor": 0
      },
      "text/plain": [
       "config.json:   0%|          | 0.00/665 [00:00<?, ?B/s]"
      ]
     },
     "metadata": {},
     "output_type": "display_data"
    },
    {
     "data": {
      "application/vnd.jupyter.widget-view+json": {
       "model_id": "7d09df4b594d4dcd92d6514a12ff09a6",
       "version_major": 2,
       "version_minor": 0
      },
      "text/plain": [
       "vocab.json:   0%|          | 0.00/1.04M [00:00<?, ?B/s]"
      ]
     },
     "metadata": {},
     "output_type": "display_data"
    },
    {
     "data": {
      "application/vnd.jupyter.widget-view+json": {
       "model_id": "fbfebdad4299402bb1af7489178b2510",
       "version_major": 2,
       "version_minor": 0
      },
      "text/plain": [
       "merges.txt:   0%|          | 0.00/456k [00:00<?, ?B/s]"
      ]
     },
     "metadata": {},
     "output_type": "display_data"
    },
    {
     "data": {
      "application/vnd.jupyter.widget-view+json": {
       "model_id": "957012d71efd4414801d63fffff5da9e",
       "version_major": 2,
       "version_minor": 0
      },
      "text/plain": [
       "tokenizer.json:   0%|          | 0.00/1.36M [00:00<?, ?B/s]"
      ]
     },
     "metadata": {},
     "output_type": "display_data"
    },
    {
     "name": "stdout",
     "output_type": "stream",
     "text": [
      "Vocab size: 50257\n",
      "Text: EduMoE is our Mixture of Experts project.\n",
      "Tokens: [36, 646, 16632, 36, 318, 674, 337, 9602, 286, 36095, 1628, 13]\n",
      "Decoded: EduMoE is our Mixture of Experts project.\n"
     ]
    }
   ],
   "source": [
    "from typing import List\n",
    "from pydantic import BaseModel, Field\n",
    "from transformers import AutoTokenizer\n",
    "\n",
    "\n",
    "class TokenizerConfig(BaseModel):\n",
    "    \"\"\"Configuration for tokenizer setup.\"\"\"\n",
    "    tokenizer_name: str = Field(default=\"gpt2\", description=\"Pretrained tokenizer to use.\")\n",
    "    add_special_tokens: bool = Field(default=False, description=\"Whether to add special tokens like BOS/EOS.\")\n",
    "\n",
    "\n",
    "class TokenizerWrapper:\n",
    "    \"\"\"Wrapper for HuggingFace GPT-2 tokenizer.\"\"\"\n",
    "\n",
    "    def __init__(self, config: TokenizerConfig) -> None:\n",
    "        self.config = config\n",
    "        self.tokenizer = AutoTokenizer.from_pretrained(config.tokenizer_name)\n",
    "\n",
    "        # GPT-2 has no pad token by default → we assign EOS as pad for batching\n",
    "        if self.tokenizer.pad_token is None:\n",
    "            self.tokenizer.pad_token = self.tokenizer.eos_token\n",
    "\n",
    "    def encode(self, text: str) -> List[int]:\n",
    "        \"\"\"Convert text → token IDs.\"\"\"\n",
    "        return self.tokenizer.encode(text, add_special_tokens=self.config.add_special_tokens)\n",
    "\n",
    "    def decode(self, tokens: List[int]) -> str:\n",
    "        \"\"\"Convert token IDs → text.\"\"\"\n",
    "        return self.tokenizer.decode(tokens)\n",
    "\n",
    "    def vocab_size(self) -> int:\n",
    "        \"\"\"Return vocabulary size.\"\"\"\n",
    "        return self.tokenizer.vocab_size\n",
    "        \n",
    "\n",
    "# --- Usage ---\n",
    "if __name__ == \"__main__\":\n",
    "    config = TokenizerConfig(tokenizer_name=\"gpt2\", add_special_tokens=False)\n",
    "    tok = TokenizerWrapper(config)\n",
    "\n",
    "    text = \"EduMoE is our Mixture of Experts project.\"\n",
    "    tokens = tok.encode(text)\n",
    "    decoded = tok.decode(tokens)\n",
    "\n",
    "    print(\"Vocab size:\", tok.vocab_size())\n",
    "    print(\"Text:\", text)\n",
    "    print(\"Tokens:\", tokens)\n",
    "    print(\"Decoded:\", decoded)\n"
   ]
  },
  {
   "cell_type": "markdown",
   "id": "ed66d6d1",
   "metadata": {},
   "source": [
    "# Tokenize WikiText-2 with Our Classes"
   ]
  },
  {
   "cell_type": "code",
   "execution_count": 6,
   "id": "85c1d485",
   "metadata": {},
   "outputs": [
    {
     "name": "stdout",
     "output_type": "stream",
     "text": [
      "Original text:\n",
      "  = Valkyria Chronicles III = \n",
      " \n",
      "\n",
      "Token IDs (first 40):\n",
      " [796, 569, 18354, 7496, 17740, 6711, 796, 220, 198] ...\n",
      "\n",
      "Decoded text:\n",
      "  = Valkyria Chronicles III = \n",
      " \n",
      "\n",
      "Char length vs Token length: 30 chars → 9 tokens\n",
      "Tokenizer vocab size: 50257\n"
     ]
    }
   ],
   "source": [
    "# 1. Load WikiText-2 (raw)\n",
    "data_config = DatasetConfig(dataset_name=\"wikitext\", subset_name=\"wikitext-2-raw-v1\")\n",
    "dataset_loader = DatasetLoader(data_config)\n",
    "dataset = dataset_loader.load_data()\n",
    "\n",
    "# 2. Load GPT-2 Byte-Level BPE tokenizer\n",
    "tok_config = TokenizerConfig(tokenizer_name=\"gpt2\", add_special_tokens=False)\n",
    "tokenizer = TokenizerWrapper(tok_config)\n",
    "\n",
    "# 3. Grab a non-empty sample from training set\n",
    "sample_text = next(x[\"text\"] for x in dataset[\"train\"] if x[\"text\"].strip() != \"\")\n",
    "\n",
    "# 4. Encode → token IDs\n",
    "token_ids = tokenizer.encode(sample_text)\n",
    "\n",
    "# 5. Decode → back to text\n",
    "decoded_text = tokenizer.decode(token_ids)\n",
    "\n",
    "# 6. Print results\n",
    "print(\"Original text:\\n\", sample_text[:200], \"\\n\")\n",
    "print(\"Token IDs (first 40):\\n\", token_ids[:40], \"...\\n\")\n",
    "print(\"Decoded text:\\n\", decoded_text[:200], \"\\n\")\n",
    "print(\"Char length vs Token length:\", len(sample_text), \"chars →\", len(token_ids), \"tokens\")\n",
    "print(\"Tokenizer vocab size:\", tokenizer.vocab_size())\n"
   ]
  },
  {
   "cell_type": "markdown",
   "id": "c959d3b8",
   "metadata": {},
   "source": [
    "# Before implementing MOE , We will be implementing a decoder style transformer and then convert it into a MOE Type design\n",
    "# This is how a gpt-2 style model looks like\n",
    "![Capture](images/Capture.PNG)"
   ]
  },
  {
   "cell_type": "markdown",
   "id": "d4c8b848",
   "metadata": {},
   "source": [
    "# Embedding\n",
    "![emblookup](images/emblookup.PNG)\n",
    "![learn_para](images/learn_para.PNG)"
   ]
  },
  {
   "cell_type": "markdown",
   "id": "8ee9f88a",
   "metadata": {},
   "source": [
    "# We will using nn.embedding as a safe wrapper for lookup table and otherwise\n",
    "![nn.emb.PNG](images/nn.emb.PNG)"
   ]
  },
  {
   "cell_type": "code",
   "execution_count": 7,
   "id": "3b373af6",
   "metadata": {},
   "outputs": [],
   "source": [
    "from pydantic import BaseModel, Field\n",
    "import torch\n",
    "import torch.nn as nn\n",
    "\n",
    "class EmbeddingConfig(BaseModel):\n",
    "    \"\"\"Configuration for token embeddings.\"\"\"\n",
    "    vocab_size: int = Field(..., description=\"Number of tokens in the vocabulary\")\n",
    "    embedding_dim: int = Field(..., description=\"Dimension of each embedding vector\")\n",
    "\n",
    "class TokenEmbedding(nn.Module):\n",
    "    \"\"\"Embedding layer for tokens.\"\"\"\n",
    "\n",
    "    def __init__(self, config: EmbeddingConfig) -> None:\n",
    "        super().__init__()\n",
    "        self.config = config\n",
    "        self.embedding = nn.Embedding(\n",
    "            num_embeddings=config.vocab_size,\n",
    "            embedding_dim=config.embedding_dim\n",
    "        )\n",
    "\n",
    "    def forward(self, token_ids: torch.Tensor) -> torch.Tensor:\n",
    "        \"\"\"\n",
    "        Map token IDs to embedding vectors.\n",
    "        Args:\n",
    "            token_ids (Tensor): shape (batch_size, seq_len)\n",
    "        Returns:\n",
    "            Tensor: shape (batch_size, seq_len, embedding_dim)\n",
    "        \"\"\"\n",
    "        return self.embedding(token_ids)\n",
    "\n",
    "\n"
   ]
  },
  {
   "cell_type": "markdown",
   "id": "d4ae8297",
   "metadata": {},
   "source": [
    "# Connecting everything till now"
   ]
  },
  {
   "cell_type": "code",
   "execution_count": 8,
   "id": "557f89a0",
   "metadata": {},
   "outputs": [
    {
     "name": "stdout",
     "output_type": "stream",
     "text": [
      "Original text:  = Valkyria Chronicles III = \n",
      " \n",
      "\n",
      "Token IDs: [796, 569, 18354, 7496, 17740, 6711, 796, 220, 198] ...\n",
      "\n",
      "Embeddings shape: torch.Size([1, 9, 128])\n",
      "First token vector (truncated): tensor([-0.8261,  1.4604,  0.4320, -1.5230, -0.1689,  0.3946, -0.5391, -0.9762,\n",
      "         1.0881, -0.4238], grad_fn=<SliceBackward0>)\n"
     ]
    }
   ],
   "source": [
    "# 1. Load WikiText-2 dataset\n",
    "data_config = DatasetConfig(dataset_name=\"wikitext\", subset_name=\"wikitext-2-raw-v1\")\n",
    "dataset_loader = DatasetLoader(data_config)\n",
    "dataset = dataset_loader.load_data()\n",
    "\n",
    "# 2. Load tokenizer (GPT-2 BBPE)\n",
    "tok_config = TokenizerConfig(tokenizer_name=\"gpt2\", add_special_tokens=False)\n",
    "tokenizer = TokenizerWrapper(tok_config)\n",
    "\n",
    "# 3. Get vocab size from tokenizer\n",
    "vocab_size = tokenizer.vocab_size()\n",
    "embedding_dim = 128   # keep small for demo, GPT-2 uses 768\n",
    "\n",
    "# 4. Create embedding layer\n",
    "embed_config = EmbeddingConfig(vocab_size=vocab_size, embedding_dim=embedding_dim)\n",
    "embed_layer = TokenEmbedding(embed_config)\n",
    "\n",
    "# 5. Take one sample from dataset (non-empty)\n",
    "sample_text = next(x[\"text\"] for x in dataset[\"train\"] if x[\"text\"].strip() != \"\")\n",
    "print(\"Original text:\", sample_text[:100], \"\\n\")\n",
    "\n",
    "# 6. Tokenize → IDs\n",
    "token_ids = tokenizer.encode(sample_text)\n",
    "token_tensor = torch.tensor([token_ids])  # add batch dim\n",
    "\n",
    "print(\"Token IDs:\", token_ids[:20], \"...\\n\")\n",
    "\n",
    "# 7. Pass through embeddings\n",
    "vectors = embed_layer(token_tensor)\n",
    "print(\"Embeddings shape:\", vectors.shape)\n",
    "print(\"First token vector (truncated):\", vectors[0, 0, :10])\n"
   ]
  },
  {
   "cell_type": "markdown",
   "id": "2a13ead0",
   "metadata": {},
   "source": [
    "# positional embeddings\n",
    "\n",
    "# Formula\n",
    "![pos_emb](images/pos_emb.PNG)\n",
    "\n",
    "# Benifits\n",
    "![pos_emb_1](images/pos_emb_1.PNG)\n",
    "\n",
    "# the sinusoidal positional encoding (original Transformer, Vaswani et al. 2017) is not learnable.\n",
    "\n",
    "# Lately system use somehting known Rotary Position Embeddings (RoPE)"
   ]
  },
  {
   "cell_type": "code",
   "execution_count": 10,
   "id": "e5a0e0f5",
   "metadata": {},
   "outputs": [],
   "source": [
    "import torch\n",
    "import torch.nn as nn\n",
    "import math\n",
    "from pydantic import BaseModel, Field\n",
    "\n",
    "\n",
    "class PositionalEncodingConfig(BaseModel):\n",
    "    \"\"\"Configuration for sinusoidal positional encoding.\"\"\"\n",
    "    embedding_dim: int = Field(..., description=\"Embedding dimension (same as token embeddings)\")\n",
    "    max_len: int = Field(5000, description=\"Maximum sequence length (context window)\")\n",
    "\n",
    "\n",
    "class PositionalEncoding(nn.Module):\n",
    "    \"\"\"Sinusoidal positional encoding (Vaswani et al. 2017).\"\"\"\n",
    "\n",
    "    def __init__(self, config: PositionalEncodingConfig) -> None:\n",
    "        super().__init__()\n",
    "        self.config = config\n",
    "        d_model = config.embedding_dim\n",
    "        max_len = config.max_len\n",
    "\n",
    "        # Create matrix of shape (max_len, d_model)\n",
    "        pe = torch.zeros(max_len, d_model)\n",
    "\n",
    "        # Position indices: (max_len, 1)\n",
    "        position = torch.arange(0, max_len, dtype=torch.float).unsqueeze(1)\n",
    "\n",
    "        # Different frequencies for each dimension (0,2,4,...)\n",
    "        div_term = torch.exp(\n",
    "            torch.arange(0, d_model, 2).float() * (-math.log(10000.0) / d_model)\n",
    "        )\n",
    "\n",
    "        # Apply sin to even indices, cos to odd indices\n",
    "        pe[:, 0::2] = torch.sin(position * div_term)\n",
    "        pe[:, 1::2] = torch.cos(position * div_term)\n",
    "\n",
    "        # Add batch dimension: (1, max_len, d_model)\n",
    "        pe = pe.unsqueeze(0)\n",
    "\n",
    "        # Register as buffer → not learnable, moves with model to GPU\n",
    "        self.register_buffer(\"pe\", pe)\n",
    "\n",
    "    def forward(self, x: torch.Tensor) -> torch.Tensor:\n",
    "        \"\"\"\n",
    "        Args:\n",
    "            x: Tensor (batch_size, seq_len, embedding_dim)\n",
    "        Returns:\n",
    "            Tensor with positional encoding added\n",
    "        \"\"\"\n",
    "        seq_len = x.size(1)\n",
    "        return x + self.pe[:, :seq_len, :]\n"
   ]
  },
  {
   "cell_type": "code",
   "execution_count": 11,
   "id": "dc6bd477",
   "metadata": {},
   "outputs": [
    {
     "name": "stdout",
     "output_type": "stream",
     "text": [
      "Before Positional Encoding: tensor([ 0.5767,  1.2355, -1.0033, -0.4563, -0.0706], grad_fn=<SliceBackward0>)\n",
      "After Positional Encoding: tensor([ 0.5767,  2.2355, -1.0033,  0.5437, -0.0706], grad_fn=<SliceBackward0>)\n",
      "Output shape: torch.Size([1, 9, 128])\n"
     ]
    }
   ],
   "source": [
    "# Token embeddings first\n",
    "embed_config = EmbeddingConfig(vocab_size=50257, embedding_dim=128)\n",
    "embed_layer = TokenEmbedding(embed_config)\n",
    "\n",
    "# Positional encodings\n",
    "pos_config = PositionalEncodingConfig(embedding_dim=128, max_len=512)\n",
    "pos_encoder = PositionalEncoding(pos_config)\n",
    "\n",
    "# Example input: 1 sentence, 9 tokens\n",
    "token_ids = torch.tensor([[796, 569, 18354, 7496, 17740, 6711, 796, 220, 198]])\n",
    "token_vectors = embed_layer(token_ids)\n",
    "\n",
    "print(\"Before Positional Encoding:\", token_vectors[0, 0, :5])\n",
    "\n",
    "# Add positional encodings\n",
    "out = pos_encoder(token_vectors)\n",
    "\n",
    "print(\"After Positional Encoding:\", out[0, 0, :5])\n",
    "print(\"Output shape:\", out.shape)\n"
   ]
  },
  {
   "cell_type": "markdown",
   "id": "2eafbd79",
   "metadata": {},
   "source": []
  }
 ],
 "metadata": {
  "kernelspec": {
   "display_name": "Python 3 (ipykernel)",
   "language": "python",
   "name": "python3"
  }
 },
 "nbformat": 4,
 "nbformat_minor": 5
}
